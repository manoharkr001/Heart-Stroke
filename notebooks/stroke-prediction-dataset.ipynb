{
 "cells": [
  {
   "cell_type": "markdown",
   "id": "89767383",
   "metadata": {},
   "source": [
    "## Imports"
   ]
  },
  {
   "cell_type": "code",
   "execution_count": 1,
   "id": "38032992",
   "metadata": {},
   "outputs": [
    {
     "ename": "FileNotFoundError",
     "evalue": "[Errno 2] No such file or directory: '../data/healthcare-dataset-stroke-data.csv'",
     "output_type": "error",
     "traceback": [
      "\u001b[1;31m---------------------------------------------------------------------------\u001b[0m",
      "\u001b[1;31mFileNotFoundError\u001b[0m                         Traceback (most recent call last)",
      "Cell \u001b[1;32mIn[1], line 13\u001b[0m\n\u001b[0;32m     10\u001b[0m \u001b[38;5;28;01mimport\u001b[39;00m \u001b[38;5;21;01mpickle\u001b[39;00m\n\u001b[0;32m     12\u001b[0m pd\u001b[38;5;241m.\u001b[39moptions\u001b[38;5;241m.\u001b[39mmode\u001b[38;5;241m.\u001b[39mchained_assignment \u001b[38;5;241m=\u001b[39m \u001b[38;5;28;01mNone\u001b[39;00m  \u001b[38;5;66;03m# default='warn'\u001b[39;00m\n\u001b[1;32m---> 13\u001b[0m df\u001b[38;5;241m=\u001b[39mpd\u001b[38;5;241m.\u001b[39mread_csv(\u001b[38;5;124m\"\u001b[39m\u001b[38;5;124m../data/healthcare-dataset-stroke-data.csv\u001b[39m\u001b[38;5;124m\"\u001b[39m)\n",
      "File \u001b[1;32mc:\\Users\\20338302\\AppData\\Local\\anaconda3\\Lib\\site-packages\\pandas\\io\\parsers\\readers.py:912\u001b[0m, in \u001b[0;36mread_csv\u001b[1;34m(filepath_or_buffer, sep, delimiter, header, names, index_col, usecols, dtype, engine, converters, true_values, false_values, skipinitialspace, skiprows, skipfooter, nrows, na_values, keep_default_na, na_filter, verbose, skip_blank_lines, parse_dates, infer_datetime_format, keep_date_col, date_parser, date_format, dayfirst, cache_dates, iterator, chunksize, compression, thousands, decimal, lineterminator, quotechar, quoting, doublequote, escapechar, comment, encoding, encoding_errors, dialect, on_bad_lines, delim_whitespace, low_memory, memory_map, float_precision, storage_options, dtype_backend)\u001b[0m\n\u001b[0;32m    899\u001b[0m kwds_defaults \u001b[38;5;241m=\u001b[39m _refine_defaults_read(\n\u001b[0;32m    900\u001b[0m     dialect,\n\u001b[0;32m    901\u001b[0m     delimiter,\n\u001b[1;32m   (...)\u001b[0m\n\u001b[0;32m    908\u001b[0m     dtype_backend\u001b[38;5;241m=\u001b[39mdtype_backend,\n\u001b[0;32m    909\u001b[0m )\n\u001b[0;32m    910\u001b[0m kwds\u001b[38;5;241m.\u001b[39mupdate(kwds_defaults)\n\u001b[1;32m--> 912\u001b[0m \u001b[38;5;28;01mreturn\u001b[39;00m _read(filepath_or_buffer, kwds)\n",
      "File \u001b[1;32mc:\\Users\\20338302\\AppData\\Local\\anaconda3\\Lib\\site-packages\\pandas\\io\\parsers\\readers.py:577\u001b[0m, in \u001b[0;36m_read\u001b[1;34m(filepath_or_buffer, kwds)\u001b[0m\n\u001b[0;32m    574\u001b[0m _validate_names(kwds\u001b[38;5;241m.\u001b[39mget(\u001b[38;5;124m\"\u001b[39m\u001b[38;5;124mnames\u001b[39m\u001b[38;5;124m\"\u001b[39m, \u001b[38;5;28;01mNone\u001b[39;00m))\n\u001b[0;32m    576\u001b[0m \u001b[38;5;66;03m# Create the parser.\u001b[39;00m\n\u001b[1;32m--> 577\u001b[0m parser \u001b[38;5;241m=\u001b[39m TextFileReader(filepath_or_buffer, \u001b[38;5;241m*\u001b[39m\u001b[38;5;241m*\u001b[39mkwds)\n\u001b[0;32m    579\u001b[0m \u001b[38;5;28;01mif\u001b[39;00m chunksize \u001b[38;5;129;01mor\u001b[39;00m iterator:\n\u001b[0;32m    580\u001b[0m     \u001b[38;5;28;01mreturn\u001b[39;00m parser\n",
      "File \u001b[1;32mc:\\Users\\20338302\\AppData\\Local\\anaconda3\\Lib\\site-packages\\pandas\\io\\parsers\\readers.py:1407\u001b[0m, in \u001b[0;36mTextFileReader.__init__\u001b[1;34m(self, f, engine, **kwds)\u001b[0m\n\u001b[0;32m   1404\u001b[0m     \u001b[38;5;28mself\u001b[39m\u001b[38;5;241m.\u001b[39moptions[\u001b[38;5;124m\"\u001b[39m\u001b[38;5;124mhas_index_names\u001b[39m\u001b[38;5;124m\"\u001b[39m] \u001b[38;5;241m=\u001b[39m kwds[\u001b[38;5;124m\"\u001b[39m\u001b[38;5;124mhas_index_names\u001b[39m\u001b[38;5;124m\"\u001b[39m]\n\u001b[0;32m   1406\u001b[0m \u001b[38;5;28mself\u001b[39m\u001b[38;5;241m.\u001b[39mhandles: IOHandles \u001b[38;5;241m|\u001b[39m \u001b[38;5;28;01mNone\u001b[39;00m \u001b[38;5;241m=\u001b[39m \u001b[38;5;28;01mNone\u001b[39;00m\n\u001b[1;32m-> 1407\u001b[0m \u001b[38;5;28mself\u001b[39m\u001b[38;5;241m.\u001b[39m_engine \u001b[38;5;241m=\u001b[39m \u001b[38;5;28mself\u001b[39m\u001b[38;5;241m.\u001b[39m_make_engine(f, \u001b[38;5;28mself\u001b[39m\u001b[38;5;241m.\u001b[39mengine)\n",
      "File \u001b[1;32mc:\\Users\\20338302\\AppData\\Local\\anaconda3\\Lib\\site-packages\\pandas\\io\\parsers\\readers.py:1661\u001b[0m, in \u001b[0;36mTextFileReader._make_engine\u001b[1;34m(self, f, engine)\u001b[0m\n\u001b[0;32m   1659\u001b[0m     \u001b[38;5;28;01mif\u001b[39;00m \u001b[38;5;124m\"\u001b[39m\u001b[38;5;124mb\u001b[39m\u001b[38;5;124m\"\u001b[39m \u001b[38;5;129;01mnot\u001b[39;00m \u001b[38;5;129;01min\u001b[39;00m mode:\n\u001b[0;32m   1660\u001b[0m         mode \u001b[38;5;241m+\u001b[39m\u001b[38;5;241m=\u001b[39m \u001b[38;5;124m\"\u001b[39m\u001b[38;5;124mb\u001b[39m\u001b[38;5;124m\"\u001b[39m\n\u001b[1;32m-> 1661\u001b[0m \u001b[38;5;28mself\u001b[39m\u001b[38;5;241m.\u001b[39mhandles \u001b[38;5;241m=\u001b[39m get_handle(\n\u001b[0;32m   1662\u001b[0m     f,\n\u001b[0;32m   1663\u001b[0m     mode,\n\u001b[0;32m   1664\u001b[0m     encoding\u001b[38;5;241m=\u001b[39m\u001b[38;5;28mself\u001b[39m\u001b[38;5;241m.\u001b[39moptions\u001b[38;5;241m.\u001b[39mget(\u001b[38;5;124m\"\u001b[39m\u001b[38;5;124mencoding\u001b[39m\u001b[38;5;124m\"\u001b[39m, \u001b[38;5;28;01mNone\u001b[39;00m),\n\u001b[0;32m   1665\u001b[0m     compression\u001b[38;5;241m=\u001b[39m\u001b[38;5;28mself\u001b[39m\u001b[38;5;241m.\u001b[39moptions\u001b[38;5;241m.\u001b[39mget(\u001b[38;5;124m\"\u001b[39m\u001b[38;5;124mcompression\u001b[39m\u001b[38;5;124m\"\u001b[39m, \u001b[38;5;28;01mNone\u001b[39;00m),\n\u001b[0;32m   1666\u001b[0m     memory_map\u001b[38;5;241m=\u001b[39m\u001b[38;5;28mself\u001b[39m\u001b[38;5;241m.\u001b[39moptions\u001b[38;5;241m.\u001b[39mget(\u001b[38;5;124m\"\u001b[39m\u001b[38;5;124mmemory_map\u001b[39m\u001b[38;5;124m\"\u001b[39m, \u001b[38;5;28;01mFalse\u001b[39;00m),\n\u001b[0;32m   1667\u001b[0m     is_text\u001b[38;5;241m=\u001b[39mis_text,\n\u001b[0;32m   1668\u001b[0m     errors\u001b[38;5;241m=\u001b[39m\u001b[38;5;28mself\u001b[39m\u001b[38;5;241m.\u001b[39moptions\u001b[38;5;241m.\u001b[39mget(\u001b[38;5;124m\"\u001b[39m\u001b[38;5;124mencoding_errors\u001b[39m\u001b[38;5;124m\"\u001b[39m, \u001b[38;5;124m\"\u001b[39m\u001b[38;5;124mstrict\u001b[39m\u001b[38;5;124m\"\u001b[39m),\n\u001b[0;32m   1669\u001b[0m     storage_options\u001b[38;5;241m=\u001b[39m\u001b[38;5;28mself\u001b[39m\u001b[38;5;241m.\u001b[39moptions\u001b[38;5;241m.\u001b[39mget(\u001b[38;5;124m\"\u001b[39m\u001b[38;5;124mstorage_options\u001b[39m\u001b[38;5;124m\"\u001b[39m, \u001b[38;5;28;01mNone\u001b[39;00m),\n\u001b[0;32m   1670\u001b[0m )\n\u001b[0;32m   1671\u001b[0m \u001b[38;5;28;01massert\u001b[39;00m \u001b[38;5;28mself\u001b[39m\u001b[38;5;241m.\u001b[39mhandles \u001b[38;5;129;01mis\u001b[39;00m \u001b[38;5;129;01mnot\u001b[39;00m \u001b[38;5;28;01mNone\u001b[39;00m\n\u001b[0;32m   1672\u001b[0m f \u001b[38;5;241m=\u001b[39m \u001b[38;5;28mself\u001b[39m\u001b[38;5;241m.\u001b[39mhandles\u001b[38;5;241m.\u001b[39mhandle\n",
      "File \u001b[1;32mc:\\Users\\20338302\\AppData\\Local\\anaconda3\\Lib\\site-packages\\pandas\\io\\common.py:859\u001b[0m, in \u001b[0;36mget_handle\u001b[1;34m(path_or_buf, mode, encoding, compression, memory_map, is_text, errors, storage_options)\u001b[0m\n\u001b[0;32m    854\u001b[0m \u001b[38;5;28;01melif\u001b[39;00m \u001b[38;5;28misinstance\u001b[39m(handle, \u001b[38;5;28mstr\u001b[39m):\n\u001b[0;32m    855\u001b[0m     \u001b[38;5;66;03m# Check whether the filename is to be opened in binary mode.\u001b[39;00m\n\u001b[0;32m    856\u001b[0m     \u001b[38;5;66;03m# Binary mode does not support 'encoding' and 'newline'.\u001b[39;00m\n\u001b[0;32m    857\u001b[0m     \u001b[38;5;28;01mif\u001b[39;00m ioargs\u001b[38;5;241m.\u001b[39mencoding \u001b[38;5;129;01mand\u001b[39;00m \u001b[38;5;124m\"\u001b[39m\u001b[38;5;124mb\u001b[39m\u001b[38;5;124m\"\u001b[39m \u001b[38;5;129;01mnot\u001b[39;00m \u001b[38;5;129;01min\u001b[39;00m ioargs\u001b[38;5;241m.\u001b[39mmode:\n\u001b[0;32m    858\u001b[0m         \u001b[38;5;66;03m# Encoding\u001b[39;00m\n\u001b[1;32m--> 859\u001b[0m         handle \u001b[38;5;241m=\u001b[39m \u001b[38;5;28mopen\u001b[39m(\n\u001b[0;32m    860\u001b[0m             handle,\n\u001b[0;32m    861\u001b[0m             ioargs\u001b[38;5;241m.\u001b[39mmode,\n\u001b[0;32m    862\u001b[0m             encoding\u001b[38;5;241m=\u001b[39mioargs\u001b[38;5;241m.\u001b[39mencoding,\n\u001b[0;32m    863\u001b[0m             errors\u001b[38;5;241m=\u001b[39merrors,\n\u001b[0;32m    864\u001b[0m             newline\u001b[38;5;241m=\u001b[39m\u001b[38;5;124m\"\u001b[39m\u001b[38;5;124m\"\u001b[39m,\n\u001b[0;32m    865\u001b[0m         )\n\u001b[0;32m    866\u001b[0m     \u001b[38;5;28;01melse\u001b[39;00m:\n\u001b[0;32m    867\u001b[0m         \u001b[38;5;66;03m# Binary mode\u001b[39;00m\n\u001b[0;32m    868\u001b[0m         handle \u001b[38;5;241m=\u001b[39m \u001b[38;5;28mopen\u001b[39m(handle, ioargs\u001b[38;5;241m.\u001b[39mmode)\n",
      "\u001b[1;31mFileNotFoundError\u001b[0m: [Errno 2] No such file or directory: '../data/healthcare-dataset-stroke-data.csv'"
     ]
    }
   ],
   "source": [
    "import pandas as pd\n",
    "import numpy as np\n",
    "import matplotlib.pyplot as plt\n",
    "from sklearn.model_selection import train_test_split\n",
    "from sklearn.impute import KNNImputer\n",
    "from sklearn.preprocessing import MinMaxScaler\n",
    "from sklearn.preprocessing import OneHotEncoder\n",
    "from sklearn.model_selection import GridSearchCV, cross_val_score, StratifiedKFold, learning_curve\n",
    "from sklearn.linear_model import LogisticRegression\n",
    "import pickle\n",
    "\n",
    "pd.options.mode.chained_assignment = None  # default='warn'\n",
    "df=pd.read_csv(\"../data/healthcare-dataset-stroke-data.csv\")"
   ]
  },
  {
   "cell_type": "markdown",
   "id": "4ca9c0df",
   "metadata": {},
   "source": [
    "## Split and format dataframe"
   ]
  },
  {
   "cell_type": "code",
   "execution_count": null,
   "id": "d8256fc4",
   "metadata": {},
   "outputs": [],
   "source": [
    "def split_test_train(df):\n",
    "    \n",
    "    X = df.iloc[:, :-1]\n",
    "    Y = df.iloc[:, -1]\n",
    "    xtrain, xtest, ytrain, ytest = train_test_split(X, \n",
    "                                                    Y, \n",
    "                                                    random_state=43, \n",
    "                                                    test_size=0.33)\n",
    "    xtest.to_csv(\"../data/stroke_prediction_test.csv\")\n",
    "    return (xtrain,\n",
    "            xtest,\n",
    "            ytrain,\n",
    "            ytest)"
   ]
  },
  {
   "cell_type": "code",
   "execution_count": null,
   "id": "265e7e55",
   "metadata": {},
   "outputs": [],
   "source": [
    "def reformat_work_type(df):\n",
    "    df[\"work_type\"] = df[\"work_type\"].replace(\"Self-employed\",\"Self employed\")\n",
    "    df[\"work_type\"] = df[\"work_type\"].replace(\"Govt_job\",\"Govt job\")\n",
    "    df[\"work_type\"] = df[\"work_type\"].replace(\"children\",\"Children\")\n",
    "    df[\"work_type\"] = df[\"work_type\"].replace(\"Never_worked\",\"Never worked\")\n",
    "    \n",
    "    return df"
   ]
  },
  {
   "cell_type": "code",
   "execution_count": null,
   "id": "0275e6e6",
   "metadata": {},
   "outputs": [],
   "source": [
    "def rename_columns(df):\n",
    "    df = df.rename(columns={\"heart_disease\":\"heart disease\", \n",
    "                            \"avg_glucose_level\":\"avg glucose level\",\n",
    "                            \"ever_married\":\"ever married\",\n",
    "                            \"Residence_type\":\"residence type\",\n",
    "                            \"work_type\":\"work type\",\n",
    "                            \"smoking_status\":\"smoking status\"})\n",
    "    return df"
   ]
  },
  {
   "cell_type": "code",
   "execution_count": null,
   "id": "f013eb65",
   "metadata": {},
   "outputs": [],
   "source": [
    "def format_df(df):\n",
    "    xtrain, xtest, ytrain, ytest = split_test_train(df)\n",
    "    xtrain = reformat_work_type(xtrain)\n",
    "    xtrain = rename_columns(xtrain)\n",
    "    return xtrain, xtest, ytrain, ytest"
   ]
  },
  {
   "cell_type": "code",
   "execution_count": null,
   "id": "76feca7c",
   "metadata": {},
   "outputs": [],
   "source": [
    "def format_inference_df(df):\n",
    "    df = reformat_work_type(df)\n",
    "    df = rename_columns(df)\n",
    "    return df"
   ]
  },
  {
   "cell_type": "markdown",
   "id": "4bfa9822",
   "metadata": {},
   "source": [
    "## Preprocessing "
   ]
  },
  {
   "cell_type": "markdown",
   "id": "e4122141",
   "metadata": {},
   "source": [
    "### 1- Outliers and missing values"
   ]
  },
  {
   "cell_type": "code",
   "execution_count": null,
   "id": "050fac08",
   "metadata": {},
   "outputs": [],
   "source": [
    "def remove_outliers(df):\n",
    "    upper_fence_age = df[\"age\"].mean() + 3*df[\"age\"].std()\n",
    "    lower_fence_age = df[\"age\"].mean() - 3*df[\"age\"].std()\n",
    "    \n",
    "    age_index = df[(df[\"age\"] > upper_fence_age) | (df[\"age\"] < lower_fence_age)].index.tolist()\n",
    "    \n",
    "    upper_fence_glucose = df[\"avg_glucose_level\"].mean() + 3*df[\"avg_glucose_level\"].std()\n",
    "    lower_fence_glucose = df[\"avg_glucose_level\"].mean() - 3*df[\"avg_glucose_level\"].std()\n",
    "\n",
    "    glucose_index = df[(df[\"avg_glucose_level\"] > upper_fence_glucose) | (df[\"avg_glucose_level\"] < lower_fence_glucose)].index.tolist()\n",
    "\n",
    "    upper_fence_bmi = df[\"bmi\"].mean() + 3*df[\"bmi\"].std()\n",
    "    lower_fence_bmi = df[\"bmi\"].mean() - 3*df[\"bmi\"].std()\n",
    "\n",
    "    bmi_index = df[(df[\"bmi\"] > upper_fence_bmi) | (df[\"bmi\"] < lower_fence_bmi)].index.tolist()\n",
    "    index_to_be_removed=bmi_index +age_index +glucose_index\n",
    "    \n",
    "    df=df.drop(index=index_to_be_removed)\n",
    "    return df"
   ]
  },
  {
   "cell_type": "code",
   "execution_count": null,
   "id": "367a4169",
   "metadata": {},
   "outputs": [],
   "source": [
    "def fit_KNN_missing_values(df):\n",
    "    \n",
    "    file = \"../models/imputer_KNN.pickle\"\n",
    "    imputer = KNNImputer(n_neighbors=5)\n",
    "    imputer.fit(df[[\"bmi\"]])\n",
    "    pickle.dump(imputer,open(file, \"wb\"))\n",
    "    \n",
    "    return df"
   ]
  },
  {
   "cell_type": "code",
   "execution_count": null,
   "id": "dbc4b609",
   "metadata": {},
   "outputs": [],
   "source": [
    "def transform_imputer(df):\n",
    "    file = \"../models/imputer_KNN.pickle\"\n",
    "    imputer = pickle.load(open(file, \"rb\"))\n",
    "    df[\"bmi\"] = imputer.transform(df[[\"bmi\"]])\n",
    "    return df"
   ]
  },
  {
   "cell_type": "markdown",
   "id": "bb75a23a",
   "metadata": {},
   "source": [
    "### 2- Feature Engineering"
   ]
  },
  {
   "cell_type": "code",
   "execution_count": null,
   "id": "e07aa48d",
   "metadata": {},
   "outputs": [],
   "source": [
    "def preprocess_gender(df):\n",
    "    df = df.replace(\"Male\", 0)\n",
    "    df = df.replace(\"Female\", 1)\n",
    "    other_inde = df[df[\"gender\"]==\"Other\"].index\n",
    "    df = df.drop(other_inde)\n",
    "    return df,other_inde"
   ]
  },
  {
   "cell_type": "code",
   "execution_count": null,
   "id": "836fe8d3",
   "metadata": {},
   "outputs": [],
   "source": [
    "def preprocess_ever_married(df):\n",
    "    df = df.replace(\"no\",0)\n",
    "    df = df.replace(\"yes\",1)\n",
    "    return df"
   ]
  },
  {
   "cell_type": "code",
   "execution_count": null,
   "id": "1957d0e9",
   "metadata": {},
   "outputs": [],
   "source": [
    "def fit_scaler(df):\n",
    "    \n",
    "    cols = [\"age\",\"avg glucose level\",\"bmi\"]\n",
    "    file = \"../models/Scaler.pickle\"\n",
    "    scaler = MinMaxScaler()\n",
    "    scaler.fit(df[cols])\n",
    "    pickle.dump(scaler,open(file, \"wb\"))"
   ]
  },
  {
   "cell_type": "code",
   "execution_count": null,
   "id": "10fee858",
   "metadata": {},
   "outputs": [],
   "source": [
    "def transfom_scaler(df):\n",
    "    \n",
    "    cols = [\"age\",\"avg glucose level\",\"bmi\"]\n",
    "    file = \"../models/Scaler.pickle\"\n",
    "    scaler = pickle.load(open(file,\"rb\"))\n",
    "    df[cols] = scaler.transform(df[cols])\n",
    "    return df"
   ]
  },
  {
   "cell_type": "code",
   "execution_count": null,
   "id": "efe4156e",
   "metadata": {},
   "outputs": [],
   "source": [
    "def preprocess_residence(df):\n",
    "    df = df.replace(\"Urban\", 0)\n",
    "    df = df.replace(\"Rural\", 1)\n",
    "    return df"
   ]
  },
  {
   "cell_type": "code",
   "execution_count": null,
   "id": "d5b9321a",
   "metadata": {},
   "outputs": [],
   "source": [
    "def preprocess_ever_married(df):\n",
    "    df = df.replace(\"Yes\", 0)\n",
    "    df = df.replace(\"No\", 1)\n",
    "    return df"
   ]
  },
  {
   "cell_type": "code",
   "execution_count": null,
   "id": "5dece88f",
   "metadata": {},
   "outputs": [],
   "source": [
    "def fit_encoder(df):\n",
    "    \n",
    "    file = \"../models/OneHot.pickle\"\n",
    "    enc = OneHotEncoder(handle_unknown=\"ignore\", sparse=False)\n",
    "    enc.fit(df[[\"work type\", \"smoking status\"]])\n",
    "    \n",
    "    pickle.dump(enc,open(file, \"wb\"))"
   ]
  },
  {
   "cell_type": "code",
   "execution_count": null,
   "id": "b06936f6",
   "metadata": {},
   "outputs": [],
   "source": [
    "def transform_encoder(df):\n",
    "    \n",
    "    file = \"../models/OneHot.pickle\"\n",
    "    enc = pickle.load(open(file, \"rb\"))\n",
    "    list_name = enc.get_feature_names_out([\"work type\", \"smoking status\"])\n",
    "    df[list_name] = enc.transform(df[[\"work type\", \"smoking status\"]])\n",
    "    df = df.drop(columns=[\"work type\", \"smoking status\"])\n",
    "    return df"
   ]
  },
  {
   "cell_type": "code",
   "execution_count": null,
   "id": "8d20cf4a",
   "metadata": {},
   "outputs": [],
   "source": [
    "def fit_scaler_encoder(df):\n",
    "    fit_KNN_missing_values(df)\n",
    "    fit_encoder(df)\n",
    "    fit_scaler(df)\n",
    "\n",
    "def transform_scaler_encoder(df):\n",
    "    df = transform_imputer(df)\n",
    "    df = transform_encoder(df) \n",
    "    df = transfom_scaler(df)\n",
    "    return df"
   ]
  },
  {
   "cell_type": "markdown",
   "id": "01790fd0",
   "metadata": {},
   "source": [
    "### 3- Removing Ids and building model"
   ]
  },
  {
   "cell_type": "code",
   "execution_count": null,
   "id": "12897167",
   "metadata": {},
   "outputs": [],
   "source": [
    "def store_id(df):\n",
    "    df_ids = df[\"id\"]\n",
    "    df = df.drop(columns=[\"id\"])\n",
    "    return df_ids,df"
   ]
  },
  {
   "cell_type": "code",
   "execution_count": null,
   "id": "58e0c501",
   "metadata": {},
   "outputs": [],
   "source": [
    "def build_model(xtrain,ytrain):\n",
    "    \n",
    "    file=\"../models/classifier.pickle\"\n",
    "    kfold = StratifiedKFold(n_splits=10)\n",
    "    classifier = LogisticRegression()\n",
    "    classifier.fit(xtrain,ytrain)\n",
    "    pickle.dump(classifier,open(file, \"wb\"))"
   ]
  },
  {
   "cell_type": "markdown",
   "id": "c3e2857a",
   "metadata": {},
   "source": [
    "### 4- Creating piepline train"
   ]
  },
  {
   "cell_type": "code",
   "execution_count": null,
   "id": "02b0d1b3",
   "metadata": {},
   "outputs": [],
   "source": [
    "def pipeline_train(df):\n",
    "    xtrain, xtest, ytrain, ytest = format_df(df)\n",
    "    fit_scaler_encoder(xtrain)\n",
    "    xtrain = transform_scaler_encoder(xtrain)\n",
    "    xtrain, ind = preprocess_gender(xtrain)\n",
    "    ytrain = ytrain.drop(index=ind)\n",
    "    xtrain = preprocess_ever_married(xtrain)\n",
    "    xtrain = preprocess_residence(xtrain) \n",
    "    ids, xtrain = store_id(xtrain)\n",
    "    return xtrain,ytrain,xtest,ytest"
   ]
  },
  {
   "cell_type": "markdown",
   "id": "c32946f0",
   "metadata": {},
   "source": [
    "### 5- Create pipeline test"
   ]
  },
  {
   "cell_type": "code",
   "execution_count": null,
   "id": "c7bf193a",
   "metadata": {},
   "outputs": [],
   "source": [
    "def pipeline_test(df):\n",
    "    df = format_inference_df(df)\n",
    "    if df[\"bmi\"].isnull().sum() > 0:\n",
    "        df = transform_imputer(df)\n",
    "    df, ind = preprocess_gender(df)\n",
    "    df = preprocess_ever_married(df)\n",
    "    df = preprocess_residence(df)\n",
    "    df = transform_scaler_encoder(df)\n",
    "    ids, df = store_id(df)\n",
    "    return df"
   ]
  },
  {
   "cell_type": "markdown",
   "id": "a3b31eed",
   "metadata": {},
   "source": [
    "### 6- Putting everything together"
   ]
  },
  {
   "cell_type": "code",
   "execution_count": null,
   "id": "4a620a0d",
   "metadata": {},
   "outputs": [],
   "source": [
    "def make_model_train(df):\n",
    "    xtrain,ytrain,xtest,ytest = pipeline_train(df)\n",
    "    build_model(xtrain, ytrain)\n",
    "    return xtest, ytest"
   ]
  },
  {
   "cell_type": "code",
   "execution_count": null,
   "id": "e8d6f04e",
   "metadata": {},
   "outputs": [],
   "source": [
    "def evaluate_model(xtest,ytest):\n",
    "    xtest = pipeline_test(xtest)\n",
    "    file = \"../models/classifier.pickle\"\n",
    "    classifier = pickle.load(open(file, \"rb\"))\n",
    "    return classifier.score(xtest, ytest)"
   ]
  },
  {
   "cell_type": "code",
   "execution_count": null,
   "id": "35e31bb7",
   "metadata": {},
   "outputs": [],
   "source": [
    "xtest,ytest = make_model_train(df)\n",
    "# evaluate_model(xtest,ytest)"
   ]
  },
  {
   "cell_type": "code",
   "execution_count": null,
   "id": "91c465e7",
   "metadata": {},
   "outputs": [],
   "source": [
    "def make_prediction(X):\n",
    "    X = pipeline_test(X)\n",
    "    file = \"../models/classifier.pickle\"\n",
    "    classifier = pickle.load(open(file, \"rb\"))\n",
    "    return classifier.predict(X)"
   ]
  },
  {
   "cell_type": "code",
   "execution_count": null,
   "id": "78a15ef5",
   "metadata": {},
   "outputs": [],
   "source": [
    "make_prediction(xtest)"
   ]
  }
 ],
 "metadata": {
  "interpreter": {
   "hash": "4373f270b90ecccfda4fe2a21b65b360181de506de5f9021897b2095593032c4"
  },
  "kernelspec": {
   "display_name": "Python 3.9.10",
   "language": "python",
   "name": "python3"
  },
  "language_info": {
   "codemirror_mode": {
    "name": "ipython",
    "version": 3
   },
   "file_extension": ".py",
   "mimetype": "text/x-python",
   "name": "python",
   "nbconvert_exporter": "python",
   "pygments_lexer": "ipython3",
   "version": "3.11.5"
  }
 },
 "nbformat": 4,
 "nbformat_minor": 5
}
